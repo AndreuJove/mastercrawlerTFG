{
 "cells": [
  {
   "cell_type": "code",
   "execution_count": 33,
   "metadata": {
    "scrolled": false
   },
   "outputs": [
    {
     "data": {
      "text/plain": [
       "'{\"error\": 400, \"type\": \"ScriptError\", \"description\": \"Error happened while executing Lua script\", \"info\": {\"source\": \"[string \\\\\"...\\\\\"]\", \"line_number\": 9, \"error\": \"http500\", \"type\": \"LUA_ERROR\", \"message\": \"Lua error: [string \\\\\"...\\\\\"]:9: http500\"}}'"
      ]
     },
     "execution_count": 33,
     "metadata": {},
     "output_type": "execute_result"
    }
   ],
   "source": [
    "import pandas as pd\n",
    "import seaborn as sns\n",
    "import matplotlib.pyplot as plt\n",
    "\n",
    "\n",
    "df = pd.read_csv('10JS.csv')\n",
    "\n",
    "df2 = pd.read_csv('10NoJS.csv')\n",
    "# nullTitles = (df['titleUrl'].isnull()).sum()\n",
    "# notNullTitles = len(df) - nullTitles\n",
    "\n",
    "# print(type(df['titleUrl']))\n",
    "\n",
    "\n",
    "# print(type(df['HTML']))\n",
    "\n",
    "# html = df['HTML']\n",
    "\n",
    "# print((html))\n",
    "\n",
    "\n",
    "# print(df)\n",
    "\n",
    "# print(df.head(0))\n",
    "\n",
    "\n",
    "# print(len(df))\n",
    "del df['HTMLtext']\n",
    "df\n",
    "\n",
    "df.loc[1]['HTML']"
   ]
  },
  {
   "cell_type": "code",
   "execution_count": 31,
   "metadata": {},
   "outputs": [
    {
     "name": "stdout",
     "output_type": "stream",
     "text": [
      "https://dev-openebench.bsc.es/monitor/tool/-cnn\n",
      "https://dev-openebench.bsc.es/monitor/tool/1000genomes_id_history_converter,https://dev-openebench.bsc.es/monitor/tool/1000genomes_vcf2ped,https://dev-openebench.bsc.es/monitor/tool/1000genomes_variation_pattern_finder,https://dev-openebench.bsc.es/monitor/tool/1000genomes_assembly_converter\n",
      "https://dev-openebench.bsc.es/monitor/tool/1000genomes\n",
      "https://dev-openebench.bsc.es/monitor/tool/net_bio\n",
      "https://dev-openebench.bsc.es/monitor/tool/-tris\n",
      "https://dev-openebench.bsc.es/monitor/tool/ps2-v3\n",
      "https://dev-openebench.bsc.es/monitor/tool/ps2\n"
     ]
    }
   ],
   "source": [
    "for id in df['idTool']:\n",
    "    for id2 in df2['idTool']:\n",
    "        if id == id2:\n",
    "            print(id2)"
   ]
  },
  {
   "cell_type": "code",
   "execution_count": 32,
   "metadata": {},
   "outputs": [],
   "source": [
    "for id in df['idTool']:\n",
    "    if id in df2['idTool']:\n",
    "        "
   ]
  },
  {
   "cell_type": "code",
   "execution_count": null,
   "metadata": {},
   "outputs": [],
   "source": [
    "def compare_file(f1, f2, out_file):\n",
    "    file1_content = read_file(f1.strip())\n",
    "    file2_content = read_file(f2.strip())\n",
    "    d = difflib.HtmlDiff()\n",
    "    result = d.make_file(file1_content, file2_content)\n",
    "    with open(out_file, 'w') as f:\n",
    "        f.writelines(result) "
   ]
  }
 ],
 "metadata": {
  "kernelspec": {
   "display_name": "Python 3",
   "language": "python",
   "name": "python3"
  },
  "language_info": {
   "codemirror_mode": {
    "name": "ipython",
    "version": 3
   },
   "file_extension": ".py",
   "mimetype": "text/x-python",
   "name": "python",
   "nbconvert_exporter": "python",
   "pygments_lexer": "ipython3",
   "version": "3.7.5"
  }
 },
 "nbformat": 4,
 "nbformat_minor": 4
}
